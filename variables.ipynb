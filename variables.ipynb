{
 "cells": [
  {
   "cell_type": "markdown",
   "id": "38d186da",
   "metadata": {},
   "source": [
    "# Aula: Classificação de Variáveis em Data Science\n",
    "\n",
    "Nesta aula, vamos entender como as variáveis são classificadas em Data Science e aplicar esses conceitos utilizando o dataset do Titanic. Abordaremos desde a teoria sobre variáveis quantitativas (discretas e contínuas), qualitativas (nominais e ordinais) e binárias, até a aplicação prática na preparação, pré-processamento e visualização dos dados."
   ]
  },
  {
   "cell_type": "markdown",
   "id": "2d03b1e3",
   "metadata": {},
   "source": [
    "## 1. Introdução\n",
    "\n",
    "As variáveis representam atributos dos dados e sua classificação é essencial para a escolha das técnicas de análise e modelagem. Em Data Science, classificamos as variáveis principalmente em duas categorias:\n",
    "\n",
    "- **Quantitativas (Numéricas):** Representam quantidades. Podem ser **discretas** (valores contáveis, como número de irmãos) ou **contínuas** (valores que podem assumir qualquer valor dentro de um intervalo, como a idade).\n",
    "\n",
    "- **Qualitativas (Categóricas):** Representam categorias ou grupos. Podem ser **nominais** (sem ordem, como sexo ou cor) ou **ordinais** (com ordem, como nível educacional).\n",
    "\n",
    "Além disso, temos as **variáveis binárias**, que assumem apenas dois valores (por exemplo, 0 e 1, ou \"sim/não\")."
   ]
  },
  {
   "cell_type": "markdown",
   "id": "1f49dbea",
   "metadata": {},
   "source": [
    "## 2. Classificação das Variáveis\n",
    "\n",
    "### 2.1 Variáveis Quantitativas\n",
    "\n",
    "- **Discretas:** Valores contáveis (ex.: número de irmãos, número de itens). \n",
    "- **Contínuas:** Valores que podem assumir qualquer valor dentro de um intervalo (ex.: idade, altura, tarifa). \n",
    "\n",
    "### 2.2 Variáveis Qualitativas\n",
    "\n",
    "- **Nominais:** Categorias sem ordem (ex.: sexo, porto de embarque).\n",
    "- **Ordinais:** Categorias com uma ordem intrínseca (ex.: classes de passageiro: 1ª, 2ª, 3ª).\n",
    "\n",
    "### 2.3 Variáveis Binárias\n",
    "\n",
    "- Variáveis que assumem apenas dois valores, como a variável `Survived` no dataset do Titanic (0 = Não, 1 = Sim)."
   ]
  },
  {
   "cell_type": "markdown",
   "id": "d67ef322",
   "metadata": {},
   "source": [
    "## 3. Aplicação Prática: Explorando o Dataset Titanic\n",
    "\n",
    "Nesta seção, vamos aplicar os conceitos vistos para preparar e explorar o dataset do Titanic. O dataset contém variáveis como `PassengerId`, `Survived`, `Pclass`, `Sex`, `Age`, `SibSp`, `Parch`, `Fare`, `Cabin` e `Embarked`.\n",
    "\n",
    "Vamos realizar as seguintes etapas:\n",
    "\n",
    "1. **Carregar o dataset**\n",
    "2. **Pré-processar os dados:** Tratar valores ausentes, converter variáveis e criar novas features.\n",
    "3. **Visualizar os dados:** Criar gráficos para entender a distribuição das variáveis."
   ]
  },
  {
   "cell_type": "code",
   "execution_count": null,
   "id": "3719678f",
   "metadata": {},
   "outputs": [],
   "source": [
    "import pandas as pd\n",
    "\n",
    "# Carregar o dataset (certifique-se de que o arquivo 'train.csv' esteja na pasta de trabalho)\n",
    "df = pd.read_csv('train.csv')\n",
    "\n",
    "# Exibir as primeiras linhas\n",
    "df.head()"
   ]
  },
  {
   "cell_type": "markdown",
   "id": "f0d808f3",
   "metadata": {},
   "source": [
    "### 3.1 Pré-processamento dos Dados\n",
    "\n",
    "Vamos tratar alguns valores ausentes e converter variáveis para facilitar a análise:\n",
    "\n",
    "- Preencher os valores ausentes da coluna `Age` com a mediana.\n",
    "- Preencher os valores ausentes da coluna `Embarked` com a moda.\n",
    "- Remover colunas que não serão utilizadas (`Cabin`, `Ticket`, `Name`).\n",
    "- Converter a variável `Sex` para numérico (1 para male, 0 para female).\n",
    "- Criar uma nova feature `FamilySize` que é a soma de `SibSp` e `Parch`."
   ]
  },
  {
   "cell_type": "code",
   "execution_count": null,
   "id": "ba41f7b3",
   "metadata": {},
   "outputs": [],
   "source": [
    "# Preencher valores ausentes\n",
    "df['Age'].fillna(df['Age'].median(), inplace=True)\n",
    "df['Embarked'].fillna(df['Embarked'].mode()[0], inplace=True)\n",
    "\n",
    "# Remover colunas não utilizadas\n",
    "df.drop(['Cabin', 'Ticket', 'Name'], axis=1, inplace=True)\n",
    "\n",
    "# Converter 'Sex' para numérico\n",
    "df['Sex'] = df['Sex'].map({'male': 1, 'female': 0})\n",
    "\n",
    "# Criar a feature FamilySize\n",
    "df['FamilySize'] = df['SibSp'] + df['Parch']\n",
    "\n",
    "# Visualizar as primeiras linhas após o pré-processamento\n",
    "df.head()"
   ]
  },
  {
   "cell_type": "markdown",
   "id": "d304c5d8",
   "metadata": {},
   "source": [
    "### 3.2 Visualizações\n",
    "\n",
    "Vamos criar alguns gráficos para visualizar a distribuição de variáveis importantes, como a idade e a relação entre sexo e sobrevivência."
   ]
  },
  {
   "cell_type": "code",
   "execution_count": null,
   "id": "8bdff1a8",
   "metadata": {},
   "outputs": [],
   "source": [
    "import matplotlib.pyplot as plt\n",
    "import seaborn as sns\n",
    "\n",
    "# Histograma da idade\n",
    "plt.figure(figsize=(10,6))\n",
    "sns.histplot(df['Age'], bins=30, kde=True)\n",
    "plt.title('Distribuição de Idade')\n",
    "plt.xlabel('Idade')\n",
    "plt.ylabel('Frequência')\n",
    "plt.show()"
   ]
  },
  {
   "cell_type": "code",
   "execution_count": null,
   "id": "a66930e2",
   "metadata": {},
   "outputs": [],
   "source": [
    "# Gráfico de barras para visualizar a sobrevivência por Sexo\n",
    "plt.figure(figsize=(8,5))\n",
    "sns.countplot(x='Sex', hue='Survived', data=df)\n",
    "plt.title('Sobrevivência por Sexo (1 = Male, 0 = Female)')\n",
    "plt.xlabel('Sexo')\n",
    "plt.ylabel('Contagem')\n",
    "plt.show()"
   ]
  },
  {
   "cell_type": "markdown",
   "id": "43de42e0",
   "metadata": {},
   "source": [
    "## 4. Conclusão\n",
    "\n",
    "Nesta aula, aprendemos a classificar variáveis em Data Science e vimos como aplicar esses conceitos no pré-processamento e visualização do dataset do Titanic. Compreender se uma variável é quantitativa ou qualitativa (nominal, ordinal ou binária) ajuda na escolha das técnicas de análise e visualização adequadas, além de influenciar na preparação dos dados para modelagem preditiva.\n",
    "\n",
    "### Exercícios:\n",
    "\n",
    "1. Identifique outras variáveis no dataset do Titanic e classifique-as como quantitativas ou qualitativas.\n",
    "2. Aplique técnicas de visualização (como boxplots) para comparar a distribuição de `Fare` entre diferentes classes (`Pclass`).\n",
    "3. Experimente aplicar outras transformações ou criar novas features, como a extração de títulos a partir de nomes (caso mantenha a coluna `Name`), e discuta como isso pode impactar na análise."
   ]
  }
 ],
 "metadata": {
  "kernelspec": {
   "display_name": "Python 3",
   "language": "python",
   "name": "python3"
  },
  "language_info": {
   "name": "python",
   "version": "3.x"
  }
 },
 "nbformat": 4,
 "nbformat_minor": 2
}
