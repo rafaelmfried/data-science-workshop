{
 "cells": [
  {
   "cell_type": "markdown",
   "id": "2fb18de1",
   "metadata": {},
   "source": [
    "# Mini Curso de Python para DataScience"
   ]
  },
  {
   "cell_type": "markdown",
   "id": "5b2a32fd",
   "metadata": {},
   "source": [
    "## Variáveis"
   ]
  },
  {
   "cell_type": "markdown",
   "id": "f0ac71ca",
   "metadata": {},
   "source": [
    "#### https://panda.ime.usp.br/pensepy/static/pensepy/02-Conceitos/conceitos.html"
   ]
  },
  {
   "cell_type": "markdown",
   "id": "7d4643f9",
   "metadata": {},
   "source": [
    "### Tipos primitivos de variaveis"
   ]
  },
  {
   "cell_type": "code",
   "execution_count": 1,
   "id": "87f152fb",
   "metadata": {},
   "outputs": [
    {
     "name": "stdout",
     "output_type": "stream",
     "text": [
      "<class 'str'>\n",
      "<class 'int'>\n",
      "<class 'float'>\n",
      "<class 'complex'>\n"
     ]
    }
   ],
   "source": [
    "print(type('Data Science'))\n",
    "print(type(2))\n",
    "print(type(2.1))\n",
    "print(type(2 + 3j))"
   ]
  },
  {
   "cell_type": "code",
   "execution_count": 2,
   "id": "0b0e5e4f",
   "metadata": {},
   "outputs": [],
   "source": [
    "inteiro = 3\n",
    "\n",
    "pi = 3.14\n",
    "complexNumber = (1 + 3j)\n",
    "nome = 'Rafael M. Friederick'"
   ]
  },
  {
   "cell_type": "markdown",
   "id": "d68a88c6",
   "metadata": {},
   "source": [
    "### Instruções"
   ]
  },
  {
   "cell_type": "code",
   "execution_count": 3,
   "id": "1fc5cd4c",
   "metadata": {},
   "outputs": [
    {
     "name": "stdout",
     "output_type": "stream",
     "text": [
      "Olá Mundo\n"
     ]
    },
    {
     "data": {
      "text/plain": [
       "str"
      ]
     },
     "execution_count": 3,
     "metadata": {},
     "output_type": "execute_result"
    }
   ],
   "source": [
    "helloWorldVariable = 'Olá Mundo'\n",
    "print(helloWorldVariable)\n",
    "type(helloWorldVariable)"
   ]
  },
  {
   "cell_type": "markdown",
   "id": "c241f101",
   "metadata": {},
   "source": [
    "## Operadores Aritméticos"
   ]
  },
  {
   "cell_type": "markdown",
   "id": "55a567b2",
   "metadata": {},
   "source": [
    "soma,\n",
    "subtração,\n",
    "multiplicação,\n",
    "divisão,\n",
    "divisão inteira,\n",
    "módulo,\n",
    "exponenciação."
   ]
  },
  {
   "cell_type": "code",
   "execution_count": 4,
   "id": "f88db0c3",
   "metadata": {},
   "outputs": [],
   "source": [
    "a = 7\n",
    "b = 2"
   ]
  },
  {
   "cell_type": "code",
   "execution_count": 5,
   "id": "afe569fc",
   "metadata": {},
   "outputs": [
    {
     "data": {
      "text/plain": [
       "9"
      ]
     },
     "execution_count": 5,
     "metadata": {},
     "output_type": "execute_result"
    }
   ],
   "source": [
    "a + b"
   ]
  },
  {
   "cell_type": "code",
   "execution_count": 6,
   "id": "4a77526d",
   "metadata": {},
   "outputs": [
    {
     "data": {
      "text/plain": [
       "5"
      ]
     },
     "execution_count": 6,
     "metadata": {},
     "output_type": "execute_result"
    }
   ],
   "source": [
    "a - b"
   ]
  },
  {
   "cell_type": "code",
   "execution_count": 7,
   "id": "69c308e6",
   "metadata": {},
   "outputs": [
    {
     "data": {
      "text/plain": [
       "14"
      ]
     },
     "execution_count": 7,
     "metadata": {},
     "output_type": "execute_result"
    }
   ],
   "source": [
    "a * b"
   ]
  },
  {
   "cell_type": "code",
   "execution_count": 8,
   "id": "8c6d56f6",
   "metadata": {},
   "outputs": [
    {
     "data": {
      "text/plain": [
       "3.5"
      ]
     },
     "execution_count": 8,
     "metadata": {},
     "output_type": "execute_result"
    }
   ],
   "source": [
    "a / b"
   ]
  },
  {
   "cell_type": "code",
   "execution_count": 9,
   "id": "7e6c80c0",
   "metadata": {},
   "outputs": [
    {
     "data": {
      "text/plain": [
       "3"
      ]
     },
     "execution_count": 9,
     "metadata": {},
     "output_type": "execute_result"
    }
   ],
   "source": [
    "a // b"
   ]
  },
  {
   "cell_type": "code",
   "execution_count": 10,
   "id": "4b65ff81",
   "metadata": {},
   "outputs": [
    {
     "data": {
      "text/plain": [
       "1"
      ]
     },
     "execution_count": 10,
     "metadata": {},
     "output_type": "execute_result"
    }
   ],
   "source": [
    "a % b"
   ]
  },
  {
   "cell_type": "code",
   "execution_count": 11,
   "id": "5691e3bb",
   "metadata": {},
   "outputs": [
    {
     "data": {
      "text/plain": [
       "49"
      ]
     },
     "execution_count": 11,
     "metadata": {},
     "output_type": "execute_result"
    }
   ],
   "source": [
    "a ** b"
   ]
  },
  {
   "cell_type": "code",
   "execution_count": 12,
   "id": "a26710ec",
   "metadata": {},
   "outputs": [],
   "source": [
    "a = 'Olá '\n",
    "b = 'mundo!'"
   ]
  },
  {
   "cell_type": "code",
   "execution_count": 13,
   "id": "9de3e946",
   "metadata": {},
   "outputs": [
    {
     "data": {
      "text/plain": [
       "'Olá mundo!'"
      ]
     },
     "execution_count": 13,
     "metadata": {},
     "output_type": "execute_result"
    }
   ],
   "source": [
    "a + b"
   ]
  },
  {
   "cell_type": "code",
   "execution_count": 14,
   "id": "a50893ad",
   "metadata": {},
   "outputs": [
    {
     "data": {
      "text/plain": [
       "'Olá Olá Olá '"
      ]
     },
     "execution_count": 14,
     "metadata": {},
     "output_type": "execute_result"
    }
   ],
   "source": [
    "a * 3"
   ]
  },
  {
   "cell_type": "markdown",
   "id": "56a2c3f4",
   "metadata": {},
   "source": [
    "## Entrada do usuário"
   ]
  },
  {
   "cell_type": "code",
   "execution_count": 1,
   "id": "f8e89b6f",
   "metadata": {},
   "outputs": [
    {
     "name": "stdout",
     "output_type": "stream",
     "text": [
      "27\n"
     ]
    }
   ],
   "source": [
    "date = input()"
   ]
  },
  {
   "cell_type": "code",
   "execution_count": 2,
   "id": "f34ad3fe",
   "metadata": {},
   "outputs": [
    {
     "data": {
      "text/plain": [
       "str"
      ]
     },
     "execution_count": 2,
     "metadata": {},
     "output_type": "execute_result"
    }
   ],
   "source": [
    "type(date)"
   ]
  },
  {
   "cell_type": "code",
   "execution_count": 4,
   "id": "a727f1ba",
   "metadata": {},
   "outputs": [
    {
     "name": "stdout",
     "output_type": "stream",
     "text": [
      "<class 'int'>\n"
     ]
    }
   ],
   "source": [
    "print(type(int(date)))"
   ]
  },
  {
   "cell_type": "markdown",
   "id": "e41d41d6",
   "metadata": {},
   "source": [
    "## Operadores Booleanos"
   ]
  },
  {
   "cell_type": "markdown",
   "id": "f6131a01",
   "metadata": {},
   "source": [
    "#### https://panda.ime.usp.br/pensepy/static/pensepy/06-Selecao/selecao.html#valores-booleanos-e-expressoes-booleanas"
   ]
  },
  {
   "cell_type": "code",
   "execution_count": 5,
   "id": "c202883f",
   "metadata": {},
   "outputs": [],
   "source": [
    "a = 1\n",
    "b = '1'\n",
    "c = 3"
   ]
  },
  {
   "cell_type": "code",
   "execution_count": 6,
   "id": "30b3fab6",
   "metadata": {},
   "outputs": [
    {
     "data": {
      "text/plain": [
       "False"
      ]
     },
     "execution_count": 6,
     "metadata": {},
     "output_type": "execute_result"
    }
   ],
   "source": [
    "a == b"
   ]
  },
  {
   "cell_type": "code",
   "execution_count": 7,
   "id": "4147977f",
   "metadata": {},
   "outputs": [
    {
     "data": {
      "text/plain": [
       "True"
      ]
     },
     "execution_count": 7,
     "metadata": {},
     "output_type": "execute_result"
    }
   ],
   "source": [
    "a != b"
   ]
  },
  {
   "cell_type": "code",
   "execution_count": 10,
   "id": "8a37fc81",
   "metadata": {},
   "outputs": [
    {
     "data": {
      "text/plain": [
       "True"
      ]
     },
     "execution_count": 10,
     "metadata": {},
     "output_type": "execute_result"
    }
   ],
   "source": [
    "a == int(b)"
   ]
  },
  {
   "cell_type": "code",
   "execution_count": 11,
   "id": "19378002",
   "metadata": {},
   "outputs": [
    {
     "data": {
      "text/plain": [
       "True"
      ]
     },
     "execution_count": 11,
     "metadata": {},
     "output_type": "execute_result"
    }
   ],
   "source": [
    "1 < 3"
   ]
  },
  {
   "cell_type": "code",
   "execution_count": 12,
   "id": "217f0872",
   "metadata": {},
   "outputs": [
    {
     "data": {
      "text/plain": [
       "False"
      ]
     },
     "execution_count": 12,
     "metadata": {},
     "output_type": "execute_result"
    }
   ],
   "source": [
    "4 > 5"
   ]
  },
  {
   "cell_type": "markdown",
   "id": "11dda3dc",
   "metadata": {},
   "source": [
    "## Coleções no python"
   ]
  },
  {
   "cell_type": "markdown",
   "id": "f0d0c624",
   "metadata": {},
   "source": [
    "### Tipos de coleções"
   ]
  },
  {
   "cell_type": "code",
   "execution_count": 13,
   "id": "75a1d50b",
   "metadata": {},
   "outputs": [],
   "source": [
    "lista = [1, 2.3, (1 + 3j), 'rafael', [1, 2]]"
   ]
  },
  {
   "cell_type": "code",
   "execution_count": 14,
   "id": "d403faf9",
   "metadata": {},
   "outputs": [],
   "source": [
    "matriz = [[2,3], [4,5], [6,7]]"
   ]
  },
  {
   "cell_type": "code",
   "execution_count": 15,
   "id": "f2db944a",
   "metadata": {},
   "outputs": [],
   "source": [
    "tupla = (1, 2.3, (1 + 3j), 'rafael', [1, 2])"
   ]
  },
  {
   "cell_type": "code",
   "execution_count": 16,
   "id": "950fb7e5",
   "metadata": {},
   "outputs": [],
   "source": [
    "dicionario = { 'nome': 'rafael', 'idade': 27, 'altura': 1.69 }"
   ]
  },
  {
   "cell_type": "markdown",
   "id": "3c99aa7d",
   "metadata": {},
   "source": [
    "### Listas"
   ]
  },
  {
   "cell_type": "markdown",
   "id": "c8f4178d",
   "metadata": {},
   "source": [
    "#### https://panda.ime.usp.br/pensepy/static/pensepy/09-Listas/listas.html"
   ]
  },
  {
   "cell_type": "code",
   "execution_count": 21,
   "id": "290095db",
   "metadata": {},
   "outputs": [
    {
     "name": "stdout",
     "output_type": "stream",
     "text": [
      "lista 0:  1\n"
     ]
    }
   ],
   "source": [
    "print('lista 0: ', lista[0])"
   ]
  },
  {
   "cell_type": "code",
   "execution_count": 22,
   "id": "7ad1bb5d",
   "metadata": {},
   "outputs": [
    {
     "name": "stdout",
     "output_type": "stream",
     "text": [
      "lista 1:  [1, 2]\n"
     ]
    }
   ],
   "source": [
    "print('lista 1: ', lista[len(lista) - 1])"
   ]
  },
  {
   "cell_type": "code",
   "execution_count": 29,
   "id": "0be0d532",
   "metadata": {},
   "outputs": [
    {
     "data": {
      "text/plain": [
       "7"
      ]
     },
     "execution_count": 29,
     "metadata": {},
     "output_type": "execute_result"
    }
   ],
   "source": [
    "len(lista)"
   ]
  },
  {
   "cell_type": "code",
   "execution_count": 24,
   "id": "53fe66f7",
   "metadata": {},
   "outputs": [
    {
     "name": "stdout",
     "output_type": "stream",
     "text": [
      "False\n"
     ]
    }
   ],
   "source": [
    "print('deric' in lista)"
   ]
  },
  {
   "cell_type": "code",
   "execution_count": 25,
   "id": "0027f5e7",
   "metadata": {},
   "outputs": [
    {
     "data": {
      "text/plain": [
       "[2.3, (1+3j), 'rafael']"
      ]
     },
     "execution_count": 25,
     "metadata": {},
     "output_type": "execute_result"
    }
   ],
   "source": [
    "lista[1:4]"
   ]
  },
  {
   "cell_type": "code",
   "execution_count": 28,
   "id": "f3d1829a",
   "metadata": {},
   "outputs": [
    {
     "name": "stdout",
     "output_type": "stream",
     "text": [
      "['jp', 2.3, (1+3j), 'rafael', [1, 2], [4, 'a + b'], [4, 'a + b']]\n"
     ]
    }
   ],
   "source": [
    "lista.append([4, 'a + b'])\n",
    "print(lista)"
   ]
  },
  {
   "cell_type": "code",
   "execution_count": 27,
   "id": "246eb443",
   "metadata": {},
   "outputs": [],
   "source": [
    "lista[0] = 'jp'"
   ]
  },
  {
   "cell_type": "markdown",
   "id": "fa071f38",
   "metadata": {},
   "source": [
    "### Tuplas"
   ]
  },
  {
   "cell_type": "markdown",
   "id": "e4e87819",
   "metadata": {},
   "source": [
    "#### https://panda.ime.usp.br/pensepy/static/pensepy/09-Listas/listas.html#tuplas-e-mutabilidade"
   ]
  },
  {
   "cell_type": "code",
   "execution_count": 30,
   "id": "a41c25c1",
   "metadata": {},
   "outputs": [
    {
     "data": {
      "text/plain": [
       "1"
      ]
     },
     "execution_count": 30,
     "metadata": {},
     "output_type": "execute_result"
    }
   ],
   "source": [
    "tupla[0]"
   ]
  },
  {
   "cell_type": "code",
   "execution_count": 31,
   "id": "a8f0d0c4",
   "metadata": {},
   "outputs": [
    {
     "ename": "TypeError",
     "evalue": "'tuple' object does not support item assignment",
     "output_type": "error",
     "traceback": [
      "\u001b[0;31m---------------------------------------------------------------------------\u001b[0m",
      "\u001b[0;31mTypeError\u001b[0m                                 Traceback (most recent call last)",
      "\u001b[0;32m/var/folders/vc/q94btnw54x74kdxrldn9svzm0000gn/T/ipykernel_51889/1855333210.py\u001b[0m in \u001b[0;36m<module>\u001b[0;34m\u001b[0m\n\u001b[0;32m----> 1\u001b[0;31m \u001b[0mtupla\u001b[0m\u001b[0;34m[\u001b[0m\u001b[0;36m0\u001b[0m\u001b[0;34m]\u001b[0m \u001b[0;34m=\u001b[0m \u001b[0;34m'jp'\u001b[0m\u001b[0;34m\u001b[0m\u001b[0;34m\u001b[0m\u001b[0m\n\u001b[0m",
      "\u001b[0;31mTypeError\u001b[0m: 'tuple' object does not support item assignment"
     ]
    }
   ],
   "source": [
    "tupla[0] = 'jp'"
   ]
  },
  {
   "cell_type": "markdown",
   "id": "73782a3a",
   "metadata": {},
   "source": [
    "### Dicionários"
   ]
  },
  {
   "cell_type": "markdown",
   "id": "6b5581b8",
   "metadata": {},
   "source": [
    "#### https://panda.ime.usp.br/pensepy/static/pensepy/11-Dicionarios/dicionarios.html"
   ]
  },
  {
   "cell_type": "code",
   "execution_count": 34,
   "id": "07e7079d",
   "metadata": {},
   "outputs": [
    {
     "data": {
      "text/plain": [
       "1.69"
      ]
     },
     "execution_count": 34,
     "metadata": {},
     "output_type": "execute_result"
    }
   ],
   "source": [
    "dicionario['altura']"
   ]
  },
  {
   "cell_type": "code",
   "execution_count": 35,
   "id": "374c9af4",
   "metadata": {},
   "outputs": [
    {
     "data": {
      "text/plain": [
       "dict_keys(['nome', 'idade', 'altura'])"
      ]
     },
     "execution_count": 35,
     "metadata": {},
     "output_type": "execute_result"
    }
   ],
   "source": [
    "dicionario.keys()"
   ]
  },
  {
   "cell_type": "code",
   "execution_count": 64,
   "id": "f093c47e",
   "metadata": {},
   "outputs": [
    {
     "data": {
      "text/plain": [
       "{'nome': 'Joao Pedro', 'idade': 27, 'altura': 1.8}"
      ]
     },
     "execution_count": 64,
     "metadata": {},
     "output_type": "execute_result"
    }
   ],
   "source": [
    "dict([('nome', 'Joao Pedro'), ('idade', 27), ('altura', 1.80)])"
   ]
  },
  {
   "cell_type": "markdown",
   "id": "812927db",
   "metadata": {},
   "source": [
    "## Estruturas Condicionais"
   ]
  },
  {
   "cell_type": "markdown",
   "id": "9db4cfb9",
   "metadata": {},
   "source": [
    "#### https://panda.ime.usp.br/pensepy/static/pensepy/06-Selecao/selecao.html#execucao-condicional-selecao-binaria"
   ]
  },
  {
   "cell_type": "code",
   "execution_count": 38,
   "id": "42d56f49",
   "metadata": {},
   "outputs": [
    {
     "name": "stdout",
     "output_type": "stream",
     "text": [
      "Coloque o seu nome: pedro\n",
      "Coloque sua idade: 18\n",
      "<class 'int'>\n",
      "pedro tem idade de 18 anos\n"
     ]
    }
   ],
   "source": [
    "nome = input('Coloque o seu nome: ')\n",
    "idade = int(input('Coloque sua idade: '))\n",
    "\n",
    "print(type(idade))\n",
    "\n",
    "if (idade > 18):\n",
    "    print(nome, 'é maior de 18 anos')\n",
    "elif (idade == 18):\n",
    "    print(nome, 'tem idade de 18 anos')\n",
    "else:\n",
    "    print(nome, 'é menor de 18 anos')"
   ]
  },
  {
   "cell_type": "markdown",
   "id": "98d1d907",
   "metadata": {},
   "source": [
    "## Estruturas de Repetição"
   ]
  },
  {
   "cell_type": "markdown",
   "id": "27a983f1",
   "metadata": {},
   "source": [
    "#### https://panda.ime.usp.br/pensepy/static/pensepy/07-Iteracao/maisiteracao.html"
   ]
  },
  {
   "cell_type": "code",
   "execution_count": 39,
   "id": "84f1f1a5",
   "metadata": {},
   "outputs": [
    {
     "name": "stdout",
     "output_type": "stream",
     "text": [
      "jp\n",
      "2.3\n",
      "(1+3j)\n",
      "rafael\n",
      "[1, 2]\n",
      "[4, 'a + b']\n",
      "[4, 'a + b']\n"
     ]
    }
   ],
   "source": [
    "for item in lista:\n",
    "    print(item)"
   ]
  },
  {
   "cell_type": "code",
   "execution_count": 40,
   "id": "acb400c7",
   "metadata": {},
   "outputs": [
    {
     "name": "stdout",
     "output_type": "stream",
     "text": [
      "jp\n",
      "2.3\n",
      "(1+3j)\n",
      "rafael\n",
      "[1, 2]\n",
      "[4, 'a + b']\n",
      "[4, 'a + b']\n"
     ]
    }
   ],
   "source": [
    "for i in range(len(lista)):\n",
    "    print(lista[i])"
   ]
  },
  {
   "cell_type": "code",
   "execution_count": 42,
   "id": "00ae99f2",
   "metadata": {},
   "outputs": [
    {
     "name": "stdout",
     "output_type": "stream",
     "text": [
      "2\n",
      "3\n",
      "4\n",
      "5\n",
      "6\n",
      "7\n",
      "8\n",
      "9\n",
      "10\n"
     ]
    }
   ],
   "source": [
    "test = 1\n",
    "while test < 10:\n",
    "    test = test + 1\n",
    "    print(test)"
   ]
  },
  {
   "cell_type": "markdown",
   "id": "12cd163d",
   "metadata": {},
   "source": [
    "## Funções"
   ]
  },
  {
   "cell_type": "markdown",
   "id": "e30b623c",
   "metadata": {},
   "source": [
    "#### https://panda.ime.usp.br/pensepy/static/pensepy/05-Funcoes/funcoes.html"
   ]
  },
  {
   "cell_type": "code",
   "execution_count": 1,
   "id": "2eedf334",
   "metadata": {},
   "outputs": [],
   "source": [
    "def soma(variavel1, variavel2):\n",
    "    return variavel1 + variavel2"
   ]
  },
  {
   "cell_type": "code",
   "execution_count": 2,
   "id": "65404a74",
   "metadata": {},
   "outputs": [],
   "source": [
    "def divisao(numerador, denominador):\n",
    "    if denominador == 0:\n",
    "        return 'erro'\n",
    "    else:\n",
    "        return round(numerador / denominador, 2)\n",
    "        "
   ]
  },
  {
   "cell_type": "code",
   "execution_count": 5,
   "id": "8cad93b3",
   "metadata": {},
   "outputs": [
    {
     "name": "stdout",
     "output_type": "stream",
     "text": [
      "5\n",
      "erro\n"
     ]
    }
   ],
   "source": [
    "print(soma(2,3))\n",
    "print(divisao(7,0))"
   ]
  },
  {
   "cell_type": "markdown",
   "id": "81eb47a8",
   "metadata": {},
   "source": [
    "## Objetos"
   ]
  },
  {
   "cell_type": "markdown",
   "id": "dfcf2bf7",
   "metadata": {},
   "source": [
    "#### https://panda.ime.usp.br/pensepy/static/pensepy/13-Classes/classesintro.html"
   ]
  },
  {
   "cell_type": "code",
   "execution_count": 14,
   "id": "306893d3",
   "metadata": {},
   "outputs": [],
   "source": [
    "class Pessoa:\n",
    "    def __init__(self, nome, idade, altura, profissao):\n",
    "        self.nome = nome\n",
    "        self.idade = idade\n",
    "        self.altura = altura\n",
    "        self.profissao = profissao\n",
    "    def passarAno(self, years):\n",
    "        self.idade += years"
   ]
  },
  {
   "cell_type": "code",
   "execution_count": 15,
   "id": "650b6fee",
   "metadata": {},
   "outputs": [],
   "source": [
    "pessoa1 = Pessoa('Rafael', 27, 1.69, 'Desenvolvedor')"
   ]
  },
  {
   "cell_type": "code",
   "execution_count": 16,
   "id": "d35a5da1",
   "metadata": {},
   "outputs": [
    {
     "name": "stdout",
     "output_type": "stream",
     "text": [
      "Rafael\n",
      "27\n",
      "1.69\n",
      "Desenvolvedor\n"
     ]
    }
   ],
   "source": [
    "print(pessoa1.nome)\n",
    "print(pessoa1.idade)\n",
    "print(pessoa1.altura)\n",
    "print(pessoa1.profissao)"
   ]
  },
  {
   "cell_type": "code",
   "execution_count": 18,
   "id": "81b857c3",
   "metadata": {},
   "outputs": [],
   "source": [
    "pessoa1.passarAno(3)"
   ]
  },
  {
   "cell_type": "code",
   "execution_count": 26,
   "id": "f8acf04c",
   "metadata": {},
   "outputs": [
    {
     "data": {
      "text/plain": [
       "30"
      ]
     },
     "execution_count": 26,
     "metadata": {},
     "output_type": "execute_result"
    }
   ],
   "source": [
    "pessoa1.idade"
   ]
  },
  {
   "cell_type": "code",
   "execution_count": 20,
   "id": "c2100b66",
   "metadata": {},
   "outputs": [],
   "source": [
    "pessoa2 = Pessoa('Lorde do Agreste', 23, 1.91, 'Vasp Pesquisador')"
   ]
  },
  {
   "cell_type": "code",
   "execution_count": 25,
   "id": "34dd2f72",
   "metadata": {},
   "outputs": [
    {
     "name": "stdout",
     "output_type": "stream",
     "text": [
      "Lorde do Agreste\n",
      "25\n",
      "1.91\n",
      "Vasp Pesquisador\n"
     ]
    }
   ],
   "source": [
    "print(pessoa2.nome)\n",
    "print(pessoa2.idade)\n",
    "print(pessoa2.altura)\n",
    "print(pessoa2.profissao)"
   ]
  },
  {
   "cell_type": "code",
   "execution_count": 24,
   "id": "fac1bdb4",
   "metadata": {},
   "outputs": [],
   "source": [
    "pessoa2.passarAno(2)"
   ]
  },
  {
   "cell_type": "code",
   "execution_count": 35,
   "id": "4d183338",
   "metadata": {},
   "outputs": [],
   "source": [
    "class Calculadora:\n",
    "    def soma(self, parametro1, parametro2):\n",
    "        return parametro1 + parametro2\n",
    "    def divisao(self, numerador, denominador):\n",
    "        if denominador == 0:\n",
    "            return 'error'\n",
    "        else:\n",
    "            return numerador/denominador"
   ]
  },
  {
   "cell_type": "code",
   "execution_count": 36,
   "id": "6e92385f",
   "metadata": {},
   "outputs": [],
   "source": [
    "calc = Calculadora()"
   ]
  },
  {
   "cell_type": "code",
   "execution_count": 37,
   "id": "50afca61",
   "metadata": {},
   "outputs": [
    {
     "data": {
      "text/plain": [
       "0.5"
      ]
     },
     "execution_count": 37,
     "metadata": {},
     "output_type": "execute_result"
    }
   ],
   "source": [
    "calc.divisao(1,2)"
   ]
  },
  {
   "cell_type": "markdown",
   "id": "42832c4d",
   "metadata": {},
   "source": [
    "## Programação Funcional"
   ]
  },
  {
   "cell_type": "markdown",
   "id": "39566147",
   "metadata": {},
   "source": [
    "#### http://nasemanadaprova.blogspot.com/2015/01/programacao-funcional-python.html"
   ]
  },
  {
   "cell_type": "code",
   "execution_count": 38,
   "id": "e864e92c",
   "metadata": {},
   "outputs": [],
   "source": [
    "lista = [1, 2, 3, 4, 5, 6, 7, 8, 9, 10]"
   ]
  },
  {
   "cell_type": "code",
   "execution_count": 41,
   "id": "557b2354",
   "metadata": {},
   "outputs": [],
   "source": [
    "funcMult = lambda x: 3*x"
   ]
  },
  {
   "cell_type": "code",
   "execution_count": null,
   "id": "225fb70d",
   "metadata": {},
   "outputs": [],
   "source": [
    "\n"
   ]
  },
  {
   "cell_type": "code",
   "execution_count": 44,
   "id": "972c8358",
   "metadata": {},
   "outputs": [
    {
     "name": "stdout",
     "output_type": "stream",
     "text": [
      "[3, 6, 9, 12, 15, 18, 21, 24, 27, 30]\n"
     ]
    }
   ],
   "source": [
    "listMap = list(map(funcMult, lista))\n",
    "print(listMap)"
   ]
  },
  {
   "cell_type": "code",
   "execution_count": 47,
   "id": "9a55e9e4",
   "metadata": {},
   "outputs": [],
   "source": [
    "funcFilter = lambda x: x >= 5"
   ]
  },
  {
   "cell_type": "code",
   "execution_count": 48,
   "id": "2519a6a8",
   "metadata": {},
   "outputs": [
    {
     "name": "stdout",
     "output_type": "stream",
     "text": [
      "[5, 6, 7, 8, 9, 10]\n"
     ]
    }
   ],
   "source": [
    "filterList = filter(funcFilter, lista)\n",
    "print(list(filterList))"
   ]
  },
  {
   "cell_type": "markdown",
   "id": "7c7992a9",
   "metadata": {},
   "source": [
    "## Trabalhando com matrizes no python"
   ]
  },
  {
   "cell_type": "markdown",
   "id": "3270c97f",
   "metadata": {},
   "source": [
    "#### Numpy: https://numpy.org"
   ]
  },
  {
   "cell_type": "code",
   "execution_count": 49,
   "id": "cbf2172d",
   "metadata": {},
   "outputs": [
    {
     "name": "stdout",
     "output_type": "stream",
     "text": [
      "Requirement already satisfied: numpy in /Users/rafaelfriederick/opt/anaconda3/lib/python3.9/site-packages (1.21.5)\r\n"
     ]
    }
   ],
   "source": [
    "!pip install numpy"
   ]
  },
  {
   "cell_type": "code",
   "execution_count": 50,
   "id": "341badf2",
   "metadata": {},
   "outputs": [],
   "source": [
    "import numpy as np"
   ]
  },
  {
   "cell_type": "markdown",
   "id": "315d6f93",
   "metadata": {},
   "source": [
    "#### Criando um array numpy"
   ]
  },
  {
   "cell_type": "code",
   "execution_count": 57,
   "id": "05f0ab88",
   "metadata": {},
   "outputs": [],
   "source": [
    "numpyArray = np.array((2,4,6,8,10))"
   ]
  },
  {
   "cell_type": "code",
   "execution_count": 58,
   "id": "bb2072e3",
   "metadata": {},
   "outputs": [
    {
     "name": "stdout",
     "output_type": "stream",
     "text": [
      "Numpy array: [ 2  4  6  8 10]\n",
      "Data type: <class 'numpy.ndarray'>\n",
      "(5,)\n"
     ]
    }
   ],
   "source": [
    "print('Numpy array:', numpyArray)\n",
    "print('Data type:', type(numpyArray))\n",
    "print(numpyArray.shape)"
   ]
  },
  {
   "cell_type": "markdown",
   "id": "c5d56719",
   "metadata": {},
   "source": [
    "#### Criando um array unidimensional"
   ]
  },
  {
   "cell_type": "code",
   "execution_count": 66,
   "id": "d5ed35be",
   "metadata": {},
   "outputs": [],
   "source": [
    "orderArray = np.arange(15) \n",
    "randomIntegerArray = np.random.randint(11, size = 10)"
   ]
  },
  {
   "cell_type": "code",
   "execution_count": 64,
   "id": "aa370f7a",
   "metadata": {},
   "outputs": [
    {
     "name": "stdout",
     "output_type": "stream",
     "text": [
      "[ 0  1  2  3  4  5  6  7  8  9 10 11 12 13 14]\n"
     ]
    }
   ],
   "source": [
    "print(orderArray)"
   ]
  },
  {
   "cell_type": "code",
   "execution_count": 67,
   "id": "39b04d71",
   "metadata": {},
   "outputs": [
    {
     "name": "stdout",
     "output_type": "stream",
     "text": [
      "[0 7 7 4 8 0 6 7 8 6]\n"
     ]
    }
   ],
   "source": [
    "print(randomIntegerArray)"
   ]
  },
  {
   "cell_type": "markdown",
   "id": "e73fdc28",
   "metadata": {},
   "source": [
    "#### Criando array multidimensional"
   ]
  },
  {
   "cell_type": "code",
   "execution_count": 42,
   "id": "23cbd38b",
   "metadata": {},
   "outputs": [],
   "source": [
    "myRandomArray = np.random.random((2,4,3))"
   ]
  },
  {
   "cell_type": "code",
   "execution_count": 48,
   "id": "40473f13",
   "metadata": {},
   "outputs": [
    {
     "name": "stdout",
     "output_type": "stream",
     "text": [
      "[[[0.2547361  0.6897497  0.8469685 ]\n",
      "  [0.86741778 0.54527103 0.6183887 ]\n",
      "  [0.23756866 0.4068571  0.95514647]\n",
      "  [0.16918026 0.34551626 0.12622029]]\n",
      "\n",
      " [[0.51912558 0.30870969 0.14407735]\n",
      "  [0.06752959 0.78684106 0.29018049]\n",
      "  [0.40469764 0.42092719 0.30799626]\n",
      "  [0.65713052 0.08236486 0.99750983]]]\n",
      "(2, 4, 3)\n"
     ]
    }
   ],
   "source": [
    "print(myRandomArray)\n",
    "print(myRandomArray.shape)"
   ]
  },
  {
   "cell_type": "code",
   "execution_count": 80,
   "id": "8d397df7",
   "metadata": {},
   "outputs": [],
   "source": [
    "emptyArray = np.empty((3,4))"
   ]
  },
  {
   "cell_type": "code",
   "execution_count": 81,
   "id": "a0aec443",
   "metadata": {},
   "outputs": [
    {
     "name": "stdout",
     "output_type": "stream",
     "text": [
      "[[0. 0. 0. 0.]\n",
      " [0. 0. 0. 0.]\n",
      " [0. 0. 0. 0.]]\n",
      "(3, 4)\n"
     ]
    }
   ],
   "source": [
    "print(emptyArray)\n",
    "print(emptyArray.shape)"
   ]
  },
  {
   "cell_type": "code",
   "execution_count": 86,
   "id": "5d9f35fc",
   "metadata": {},
   "outputs": [],
   "source": [
    "bidimensionalIntegerArray = np.random.randint(10, size = (2, 4,3))"
   ]
  },
  {
   "cell_type": "code",
   "execution_count": 87,
   "id": "a96e7712",
   "metadata": {},
   "outputs": [
    {
     "name": "stdout",
     "output_type": "stream",
     "text": [
      "[[[8 3 9]\n",
      "  [0 3 1]\n",
      "  [4 3 8]\n",
      "  [3 9 4]]\n",
      "\n",
      " [[9 8 2]\n",
      "  [8 6 4]\n",
      "  [6 0 6]\n",
      "  [8 8 4]]]\n"
     ]
    }
   ],
   "source": [
    "print(bidimensionalIntegerArray)"
   ]
  },
  {
   "cell_type": "markdown",
   "id": "330485ec",
   "metadata": {},
   "source": [
    "#### Transformando array multidimensional em unidimensional"
   ]
  },
  {
   "cell_type": "code",
   "execution_count": 88,
   "id": "1098170f",
   "metadata": {},
   "outputs": [],
   "source": [
    "flatenArray = bidimensionalIntegerArray.flatten()"
   ]
  },
  {
   "cell_type": "code",
   "execution_count": 92,
   "id": "fcffa7cd",
   "metadata": {},
   "outputs": [
    {
     "name": "stdout",
     "output_type": "stream",
     "text": [
      "24\n"
     ]
    }
   ],
   "source": [
    "print(flatenArray.size)"
   ]
  },
  {
   "cell_type": "markdown",
   "id": "640a54db",
   "metadata": {},
   "source": [
    "#### Tamanho, dimensão e formato de um numpy array"
   ]
  },
  {
   "cell_type": "code",
   "execution_count": 93,
   "id": "874af751",
   "metadata": {},
   "outputs": [
    {
     "name": "stdout",
     "output_type": "stream",
     "text": [
      "(2, 4, 3)\n",
      "3\n",
      "24\n"
     ]
    }
   ],
   "source": [
    "print(bidimensionalIntegerArray.shape)\n",
    "print(bidimensionalIntegerArray.ndim)\n",
    "print(bidimensionalIntegerArray.size)"
   ]
  },
  {
   "cell_type": "code",
   "execution_count": 94,
   "id": "a1a3944e",
   "metadata": {},
   "outputs": [
    {
     "name": "stdout",
     "output_type": "stream",
     "text": [
      "Qual maior valor no array: 9\n"
     ]
    }
   ],
   "source": [
    "print('Qual maior valor no array:', bidimensionalIntegerArray.max())"
   ]
  },
  {
   "cell_type": "markdown",
   "id": "05090566",
   "metadata": {},
   "source": [
    "#### Aplicando transformações em array"
   ]
  },
  {
   "cell_type": "code",
   "execution_count": 97,
   "id": "75aa78e1",
   "metadata": {},
   "outputs": [
    {
     "name": "stdout",
     "output_type": "stream",
     "text": [
      "[[[8 3 9 0]\n",
      "  [3 1 4 3]]\n",
      "\n",
      " [[8 3 9 4]\n",
      "  [9 8 2 8]]\n",
      "\n",
      " [[6 4 6 0]\n",
      "  [6 8 8 4]]]\n"
     ]
    }
   ],
   "source": [
    "print(bidimensionalIntegerArray.reshape((3,2,4)))"
   ]
  },
  {
   "cell_type": "code",
   "execution_count": 100,
   "id": "637b8be3",
   "metadata": {},
   "outputs": [
    {
     "name": "stdout",
     "output_type": "stream",
     "text": [
      "[[[8 9]\n",
      "  [0 8]\n",
      "  [4 6]\n",
      "  [3 8]]\n",
      "\n",
      " [[3 8]\n",
      "  [3 6]\n",
      "  [3 0]\n",
      "  [9 8]]\n",
      "\n",
      " [[9 2]\n",
      "  [1 4]\n",
      "  [8 6]\n",
      "  [4 4]]]\n"
     ]
    }
   ],
   "source": [
    "print(bidimensionalIntegerArray.T)"
   ]
  },
  {
   "cell_type": "markdown",
   "id": "068801ad",
   "metadata": {},
   "source": [
    "#### Usando operadores lógicos em arrays"
   ]
  },
  {
   "cell_type": "code",
   "execution_count": 101,
   "id": "e356165b",
   "metadata": {},
   "outputs": [
    {
     "name": "stdout",
     "output_type": "stream",
     "text": [
      "[[[ True False  True]\n",
      "  [False False False]\n",
      "  [ True False  True]\n",
      "  [False  True  True]]\n",
      "\n",
      " [[ True  True False]\n",
      "  [ True  True  True]\n",
      "  [ True False  True]\n",
      "  [ True  True  True]]]\n"
     ]
    }
   ],
   "source": [
    "print(bidimensionalIntegerArray >=4) "
   ]
  },
  {
   "cell_type": "markdown",
   "id": "86674a5b",
   "metadata": {},
   "source": [
    "#### Criando matriz diagonal"
   ]
  },
  {
   "cell_type": "code",
   "execution_count": 104,
   "id": "5f7a1873",
   "metadata": {},
   "outputs": [],
   "source": [
    "matrizDiagonal = np.diag((2,3,4,5))"
   ]
  },
  {
   "cell_type": "code",
   "execution_count": 105,
   "id": "684a8b5e",
   "metadata": {},
   "outputs": [
    {
     "name": "stdout",
     "output_type": "stream",
     "text": [
      "[[2 0 0 0]\n",
      " [0 3 0 0]\n",
      " [0 0 4 0]\n",
      " [0 0 0 5]]\n"
     ]
    }
   ],
   "source": [
    "print(matrizDiagonal)"
   ]
  },
  {
   "cell_type": "markdown",
   "id": "5a01c25f",
   "metadata": {},
   "source": [
    "#### Operando com arrays numpy"
   ]
  },
  {
   "cell_type": "code",
   "execution_count": 106,
   "id": "78859999",
   "metadata": {},
   "outputs": [
    {
     "name": "stdout",
     "output_type": "stream",
     "text": [
      "[6 6 6 6 6]\n"
     ]
    }
   ],
   "source": [
    "data = np.array([1, 2, 3, 4, 5])\n",
    "data2 = np.array([5, 4, 3, 2, 1])\n",
    "print(data + data2)"
   ]
  },
  {
   "cell_type": "code",
   "execution_count": 107,
   "id": "e299896e",
   "metadata": {},
   "outputs": [
    {
     "name": "stdout",
     "output_type": "stream",
     "text": [
      "[-4 -2  0  2  4]\n"
     ]
    }
   ],
   "source": [
    "data = np.array([1, 2, 3, 4, 5])\n",
    "data2 = np.array([5, 4, 3, 2, 1])\n",
    "print(data - data2)"
   ]
  },
  {
   "cell_type": "code",
   "execution_count": 108,
   "id": "d785fd33",
   "metadata": {},
   "outputs": [
    {
     "name": "stdout",
     "output_type": "stream",
     "text": [
      "[5 8 9 8 5]\n"
     ]
    }
   ],
   "source": [
    "data = np.array([1, 2, 3, 4, 5])\n",
    "data2 = np.array([5, 4, 3, 2, 1])\n",
    "print(data * data2)"
   ]
  },
  {
   "cell_type": "code",
   "execution_count": 109,
   "id": "dfe93362",
   "metadata": {},
   "outputs": [
    {
     "name": "stdout",
     "output_type": "stream",
     "text": [
      "[0.2 0.5 1.  2.  5. ]\n"
     ]
    }
   ],
   "source": [
    "data = np.array([1, 2, 3, 4, 5])\n",
    "data2 = np.array([5, 4, 3, 2, 1])\n",
    "print(data / data2)"
   ]
  },
  {
   "cell_type": "code",
   "execution_count": 110,
   "id": "163d478d",
   "metadata": {},
   "outputs": [
    {
     "name": "stdout",
     "output_type": "stream",
     "text": [
      "[ True  True False False False]\n"
     ]
    }
   ],
   "source": [
    "data = np.array([1, 2, 3, 4, 5])\n",
    "data2 = np.array([5, 4, 3, 2, 1])\n",
    "print(data < data2)"
   ]
  },
  {
   "cell_type": "markdown",
   "id": "d3f54335",
   "metadata": {},
   "source": [
    "## Plotando gráficos com python"
   ]
  },
  {
   "cell_type": "markdown",
   "id": "aeeb6a55",
   "metadata": {},
   "source": [
    "### Matplotlib: https://matplotlib.org"
   ]
  },
  {
   "cell_type": "code",
   "execution_count": 111,
   "id": "96029aae",
   "metadata": {},
   "outputs": [],
   "source": [
    "import matplotlib.pyplot as plt"
   ]
  },
  {
   "cell_type": "code",
   "execution_count": 112,
   "id": "28dac5fd",
   "metadata": {},
   "outputs": [],
   "source": [
    "import numpy as np"
   ]
  },
  {
   "cell_type": "markdown",
   "id": "46320eac",
   "metadata": {},
   "source": [
    "### plot()\n",
    "https://matplotlib.org/stable/api/_as_gen/matplotlib.pyplot.plot.html?highlight=pyplot%20plot#matplotlib-pyplot-plot"
   ]
  },
  {
   "cell_type": "code",
   "execution_count": 113,
   "id": "5de8e26a",
   "metadata": {},
   "outputs": [
    {
     "data": {
      "image/png": "[encoded data removed]",
      "text/plain": [
       "<Figure size 640x480 with 1 Axes>"
      ]
     },
     "metadata": {},
     "output_type": "display_data"
    }
   ],
   "source": [
    "x = [1, 2, 3, 4]\n",
    "y = [1, 4, 9, 16]\n",
    "\n",
    "plt.plot(x, y)\n",
    "plt.show()"
   ]
  },
  {
   "cell_type": "code",
   "execution_count": 115,
   "id": "99580bcf",
   "metadata": {},
   "outputs": [
    {
     "data": {
      "image/png": "[encoded data removed]",
      "text/plain": [
       "<Figure size 640x480 with 1 Axes>"
      ]
     },
     "metadata": {},
     "output_type": "display_data"
    }
   ],
   "source": [
    "plt.plot(x, y, label='dados')\n",
    "plt.ylabel('Eixo Y')\n",
    "plt.xlabel('Eixo X')\n",
    "plt.title('Novo Gráfico')\n",
    "plt.xticks([0,1,2,3,4,5,6])\n",
    "plt.yticks([0,2,4,6])\n",
    "plt.legend()\n",
    "plt.show()"
   ]
  },
  {
   "cell_type": "markdown",
   "id": "ac98bb1f",
   "metadata": {},
   "source": [
    "### LINES properties\n",
    "https://matplotlib.org/stable/api/_as_gen/matplotlib.lines.Line2D.html#matplotlib.lines.Line2D.set_marker"
   ]
  },
  {
   "cell_type": "code",
   "execution_count": 114,
   "id": "20c8193d",
   "metadata": {},
   "outputs": [
    {
     "data": {
      "text/plain": [
       "[<matplotlib.lines.Line2D at 0x7f81d0e83d90>]"
      ]
     },
     "execution_count": 114,
     "metadata": {},
     "output_type": "execute_result"
    },
    {
     "data": {
      "image/png": "[encoded data removed]",
      "text/plain": [
       "<Figure size 640x480 with 1 Axes>"
      ]
     },
     "metadata": {},
     "output_type": "display_data"
    }
   ],
   "source": [
    "plt.plot(x, y, linestyle='--',color='y',lw=1.0)"
   ]
  },
  {
   "cell_type": "markdown",
   "id": "278914f7",
   "metadata": {},
   "source": [
    "### .Scatter()\n",
    "\n",
    "https://matplotlib.org/stable/api/_as_gen/matplotlib.pyplot.scatter.html#matplotlib-pyplot-scatter"
   ]
  },
  {
   "cell_type": "code",
   "execution_count": 116,
   "id": "6edfd0f0",
   "metadata": {},
   "outputs": [
    {
     "data": {
      "image/png": "[encoded data removed]",
      "text/plain": [
       "<Figure size 640x480 with 1 Axes>"
      ]
     },
     "metadata": {},
     "output_type": "display_data"
    }
   ],
   "source": [
    "plt.scatter(x, y)\n",
    "plt.show()"
   ]
  },
  {
   "cell_type": "markdown",
   "id": "086fbf1d",
   "metadata": {},
   "source": [
    "### .bar()\n",
    "\n",
    "https://matplotlib.org/stable/api/_as_gen/matplotlib.pyplot.bar.html#matplotlib-pyplot-bar"
   ]
  },
  {
   "cell_type": "code",
   "execution_count": 117,
   "id": "b0be4b8e",
   "metadata": {},
   "outputs": [
    {
     "data": {
      "image/png": "[encoded data removed]",
      "text/plain": [
       "<Figure size 640x480 with 1 Axes>"
      ]
     },
     "metadata": {},
     "output_type": "display_data"
    }
   ],
   "source": [
    "plt.bar(x,y)\n",
    "plt.show()"
   ]
  },
  {
   "cell_type": "markdown",
   "id": "4077bcfb",
   "metadata": {},
   "source": [
    "### Nomeando os eixos de um gráfico:"
   ]
  },
  {
   "cell_type": "markdown",
   "id": "eb5be787",
   "metadata": {},
   "source": [
    "### Mudando os tipos de marcadores do gráfico :"
   ]
  },
  {
   "cell_type": "markdown",
   "id": "43f69ce4",
   "metadata": {},
   "source": [
    "https://matplotlib.org/stable/api/markers_api.html#module-matplotlib.markers"
   ]
  },
  {
   "cell_type": "code",
   "execution_count": 168,
   "id": "430b3696",
   "metadata": {},
   "outputs": [
    {
     "data": {
      "image/png": "[encoded data removed]",
      "text/plain": [
       "<Figure size 640x480 with 1 Axes>"
      ]
     },
     "metadata": {},
     "output_type": "display_data"
    }
   ],
   "source": [
    "plt.plot(x, y, 'ro')\n",
    "plt.show()"
   ]
  },
  {
   "cell_type": "markdown",
   "id": "52f64267",
   "metadata": {},
   "source": [
    "### Alterando os limites dos gráficos:\n",
    "https://matplotlib.org/stable/api/_as_gen/matplotlib.pyplot.axis.html#matplotlib.pyplot.axis"
   ]
  },
  {
   "cell_type": "code",
   "execution_count": 169,
   "id": "7be62549",
   "metadata": {},
   "outputs": [
    {
     "data": {
      "image/png": "[encoded data removed]",
      "text/plain": [
       "<Figure size 640x480 with 1 Axes>"
      ]
     },
     "metadata": {},
     "output_type": "display_data"
    }
   ],
   "source": [
    "plt.plot(x,y)\n",
    "#plt.axis(xmin=-1,xmax=20,ymin=-5,ymax=15)\n",
    "#plt.axis('auto')\n",
    "#plt.axis('square')\n",
    "plt.show()"
   ]
  },
  {
   "cell_type": "markdown",
   "id": "f731b2c5",
   "metadata": {},
   "source": [
    "### FIGURE\n",
    "https://matplotlib.org/stable/api/figure_api.html?highlight=sharex#module-matplotlib.figure"
   ]
  },
  {
   "cell_type": "markdown",
   "id": "dc34bbd3",
   "metadata": {},
   "source": [
    "### SUBPLOTS\n",
    "https://matplotlib.org/stable/api/_as_gen/matplotlib.pyplot.subplot.html"
   ]
  },
  {
   "cell_type": "code",
   "execution_count": 118,
   "id": "67a9d145",
   "metadata": {},
   "outputs": [
    {
     "data": {
      "image/png": "[encoded data removed]",
      "text/plain": [
       "<Figure size 3000x400 with 3 Axes>"
      ]
     },
     "metadata": {},
     "output_type": "display_data"
    }
   ],
   "source": [
    "valoresx = [1, 2, 3, 4]\n",
    "valoresy = [1, 4, 2, 3]\n",
    "\n",
    "\n",
    "\n",
    "figura= plt.figure(figsize=(30,4))\n",
    "figura.suptitle('Título Geral')\n",
    "facecolor='blue'\n",
    "\n",
    "figura.add_subplot(131)\n",
    "plt.plot(valoresx, valoresy,  label = ' Um dado qualquer')\n",
    "plt.legend()\n",
    "plt.title ('Gráfico 1')\n",
    "\n",
    "figura.add_subplot(133)\n",
    "plt.scatter(valoresx,valoresy)\n",
    "plt.title ('Gráfico 2')\n",
    "\n",
    "figura.add_subplot(132)\n",
    "plt.title ('Gráfico 3')\n",
    "plt.bar(valoresx, valoresy)\n",
    "\n",
    "plt.savefig('grafico.png', dpi =100)\n",
    "plt.show(figura)"
   ]
  },
  {
   "cell_type": "markdown",
   "id": "b97bc6e3",
   "metadata": {},
   "source": [
    "## Aplicação"
   ]
  },
  {
   "cell_type": "markdown",
   "id": "1ef9df8d",
   "metadata": {},
   "source": [
    "https://www.kaggle.com/mattiuzc/stock-exchange-data"
   ]
  },
  {
   "cell_type": "code",
   "execution_count": 119,
   "id": "f2f89873",
   "metadata": {},
   "outputs": [
    {
     "name": "stdout",
     "output_type": "stream",
     "text": [
      "Requirement already satisfied: pandas in /Users/rafaelfriederick/opt/anaconda3/lib/python3.9/site-packages (1.4.4)\r\n",
      "Requirement already satisfied: python-dateutil>=2.8.1 in /Users/rafaelfriederick/opt/anaconda3/lib/python3.9/site-packages (from pandas) (2.8.2)\r\n",
      "Requirement already satisfied: pytz>=2020.1 in /Users/rafaelfriederick/opt/anaconda3/lib/python3.9/site-packages (from pandas) (2022.1)\r\n",
      "Requirement already satisfied: numpy>=1.18.5 in /Users/rafaelfriederick/opt/anaconda3/lib/python3.9/site-packages (from pandas) (1.21.5)\r\n",
      "Requirement already satisfied: six>=1.5 in /Users/rafaelfriederick/opt/anaconda3/lib/python3.9/site-packages (from python-dateutil>=2.8.1->pandas) (1.16.0)\r\n"
     ]
    }
   ],
   "source": [
    "!pip install pandas"
   ]
  },
  {
   "cell_type": "markdown",
   "id": "68d1be11",
   "metadata": {},
   "source": [
    "### Pandas"
   ]
  },
  {
   "cell_type": "markdown",
   "id": "f407321f",
   "metadata": {},
   "source": [
    "https://pandas.pydata.org/docs/getting_started/index.html"
   ]
  },
  {
   "cell_type": "code",
   "execution_count": 120,
   "id": "90b8d0d9",
   "metadata": {},
   "outputs": [],
   "source": [
    "import pandas as pd"
   ]
  },
  {
   "cell_type": "code",
   "execution_count": 121,
   "id": "b9c8a97b",
   "metadata": {
    "scrolled": true
   },
   "outputs": [
    {
     "data": {
      "text/html": [
       "<div>\n",
       "<style scoped>\n",
       "    .dataframe tbody tr th:only-of-type {\n",
       "        vertical-align: middle;\n",
       "    }\n",
       "\n",
       "    .dataframe tbody tr th {\n",
       "        vertical-align: top;\n",
       "    }\n",
       "\n",
       "    .dataframe thead th {\n",
       "        text-align: right;\n",
       "    }\n",
       "</style>\n",
       "<table border=\"1\" class=\"dataframe\">\n",
       "  <thead>\n",
       "    <tr style=\"text-align: right;\">\n",
       "      <th></th>\n",
       "      <th>Index</th>\n",
       "      <th>Date</th>\n",
       "      <th>Open</th>\n",
       "      <th>High</th>\n",
       "      <th>Low</th>\n",
       "      <th>Close</th>\n",
       "      <th>Adj Close</th>\n",
       "      <th>Volume</th>\n",
       "    </tr>\n",
       "  </thead>\n",
       "  <tbody>\n",
       "    <tr>\n",
       "      <th>0</th>\n",
       "      <td>NYA</td>\n",
       "      <td>1965-12-31</td>\n",
       "      <td>528.690002</td>\n",
       "      <td>528.690002</td>\n",
       "      <td>528.690002</td>\n",
       "      <td>528.690002</td>\n",
       "      <td>528.690002</td>\n",
       "      <td>0.0</td>\n",
       "    </tr>\n",
       "    <tr>\n",
       "      <th>1</th>\n",
       "      <td>NYA</td>\n",
       "      <td>1966-01-03</td>\n",
       "      <td>527.210022</td>\n",
       "      <td>527.210022</td>\n",
       "      <td>527.210022</td>\n",
       "      <td>527.210022</td>\n",
       "      <td>527.210022</td>\n",
       "      <td>0.0</td>\n",
       "    </tr>\n",
       "    <tr>\n",
       "      <th>2</th>\n",
       "      <td>NYA</td>\n",
       "      <td>1966-01-04</td>\n",
       "      <td>527.840027</td>\n",
       "      <td>527.840027</td>\n",
       "      <td>527.840027</td>\n",
       "      <td>527.840027</td>\n",
       "      <td>527.840027</td>\n",
       "      <td>0.0</td>\n",
       "    </tr>\n",
       "    <tr>\n",
       "      <th>3</th>\n",
       "      <td>NYA</td>\n",
       "      <td>1966-01-05</td>\n",
       "      <td>531.119995</td>\n",
       "      <td>531.119995</td>\n",
       "      <td>531.119995</td>\n",
       "      <td>531.119995</td>\n",
       "      <td>531.119995</td>\n",
       "      <td>0.0</td>\n",
       "    </tr>\n",
       "    <tr>\n",
       "      <th>4</th>\n",
       "      <td>NYA</td>\n",
       "      <td>1966-01-06</td>\n",
       "      <td>532.070007</td>\n",
       "      <td>532.070007</td>\n",
       "      <td>532.070007</td>\n",
       "      <td>532.070007</td>\n",
       "      <td>532.070007</td>\n",
       "      <td>0.0</td>\n",
       "    </tr>\n",
       "    <tr>\n",
       "      <th>...</th>\n",
       "      <td>...</td>\n",
       "      <td>...</td>\n",
       "      <td>...</td>\n",
       "      <td>...</td>\n",
       "      <td>...</td>\n",
       "      <td>...</td>\n",
       "      <td>...</td>\n",
       "      <td>...</td>\n",
       "    </tr>\n",
       "    <tr>\n",
       "      <th>112452</th>\n",
       "      <td>N100</td>\n",
       "      <td>2021-05-27</td>\n",
       "      <td>1241.119995</td>\n",
       "      <td>1251.910034</td>\n",
       "      <td>1241.119995</td>\n",
       "      <td>1247.069946</td>\n",
       "      <td>1247.069946</td>\n",
       "      <td>379696400.0</td>\n",
       "    </tr>\n",
       "    <tr>\n",
       "      <th>112453</th>\n",
       "      <td>N100</td>\n",
       "      <td>2021-05-28</td>\n",
       "      <td>1249.469971</td>\n",
       "      <td>1259.209961</td>\n",
       "      <td>1249.030029</td>\n",
       "      <td>1256.599976</td>\n",
       "      <td>1256.599976</td>\n",
       "      <td>160773400.0</td>\n",
       "    </tr>\n",
       "    <tr>\n",
       "      <th>112454</th>\n",
       "      <td>N100</td>\n",
       "      <td>2021-05-31</td>\n",
       "      <td>1256.079956</td>\n",
       "      <td>1258.880005</td>\n",
       "      <td>1248.140015</td>\n",
       "      <td>1248.930054</td>\n",
       "      <td>1248.930054</td>\n",
       "      <td>91173700.0</td>\n",
       "    </tr>\n",
       "    <tr>\n",
       "      <th>112455</th>\n",
       "      <td>N100</td>\n",
       "      <td>2021-06-01</td>\n",
       "      <td>1254.609985</td>\n",
       "      <td>1265.660034</td>\n",
       "      <td>1254.609985</td>\n",
       "      <td>1258.579956</td>\n",
       "      <td>1258.579956</td>\n",
       "      <td>155179900.0</td>\n",
       "    </tr>\n",
       "    <tr>\n",
       "      <th>112456</th>\n",
       "      <td>N100</td>\n",
       "      <td>2021-06-02</td>\n",
       "      <td>1258.489990</td>\n",
       "      <td>1263.709961</td>\n",
       "      <td>1258.239990</td>\n",
       "      <td>1263.619995</td>\n",
       "      <td>1263.619995</td>\n",
       "      <td>148465000.0</td>\n",
       "    </tr>\n",
       "  </tbody>\n",
       "</table>\n",
       "<p>112457 rows × 8 columns</p>\n",
       "</div>"
      ],
      "text/plain": [
       "       Index        Date         Open         High          Low        Close  \\\n",
       "0        NYA  1965-12-31   528.690002   528.690002   528.690002   528.690002   \n",
       "1        NYA  1966-01-03   527.210022   527.210022   527.210022   527.210022   \n",
       "2        NYA  1966-01-04   527.840027   527.840027   527.840027   527.840027   \n",
       "3        NYA  1966-01-05   531.119995   531.119995   531.119995   531.119995   \n",
       "4        NYA  1966-01-06   532.070007   532.070007   532.070007   532.070007   \n",
       "...      ...         ...          ...          ...          ...          ...   \n",
       "112452  N100  2021-05-27  1241.119995  1251.910034  1241.119995  1247.069946   \n",
       "112453  N100  2021-05-28  1249.469971  1259.209961  1249.030029  1256.599976   \n",
       "112454  N100  2021-05-31  1256.079956  1258.880005  1248.140015  1248.930054   \n",
       "112455  N100  2021-06-01  1254.609985  1265.660034  1254.609985  1258.579956   \n",
       "112456  N100  2021-06-02  1258.489990  1263.709961  1258.239990  1263.619995   \n",
       "\n",
       "          Adj Close       Volume  \n",
       "0        528.690002          0.0  \n",
       "1        527.210022          0.0  \n",
       "2        527.840027          0.0  \n",
       "3        531.119995          0.0  \n",
       "4        532.070007          0.0  \n",
       "...             ...          ...  \n",
       "112452  1247.069946  379696400.0  \n",
       "112453  1256.599976  160773400.0  \n",
       "112454  1248.930054   91173700.0  \n",
       "112455  1258.579956  155179900.0  \n",
       "112456  1263.619995  148465000.0  \n",
       "\n",
       "[112457 rows x 8 columns]"
      ]
     },
     "metadata": {},
     "output_type": "display_data"
    }
   ],
   "source": [
    "datadf = pd.read_csv('indexdata.csv')\n",
    "display(datadf)"
   ]
  },
  {
   "cell_type": "code",
   "execution_count": 123,
   "id": "bec95e44",
   "metadata": {},
   "outputs": [
    {
     "data": {
      "text/html": [
       "<div>\n",
       "<style scoped>\n",
       "    .dataframe tbody tr th:only-of-type {\n",
       "        vertical-align: middle;\n",
       "    }\n",
       "\n",
       "    .dataframe tbody tr th {\n",
       "        vertical-align: top;\n",
       "    }\n",
       "\n",
       "    .dataframe thead th {\n",
       "        text-align: right;\n",
       "    }\n",
       "</style>\n",
       "<table border=\"1\" class=\"dataframe\">\n",
       "  <thead>\n",
       "    <tr style=\"text-align: right;\">\n",
       "      <th></th>\n",
       "      <th>Index</th>\n",
       "      <th>Close</th>\n",
       "      <th>Date</th>\n",
       "    </tr>\n",
       "  </thead>\n",
       "  <tbody>\n",
       "    <tr>\n",
       "      <th>0</th>\n",
       "      <td>NYA</td>\n",
       "      <td>528.690002</td>\n",
       "      <td>1965-12-31</td>\n",
       "    </tr>\n",
       "    <tr>\n",
       "      <th>1</th>\n",
       "      <td>NYA</td>\n",
       "      <td>527.210022</td>\n",
       "      <td>1966-01-03</td>\n",
       "    </tr>\n",
       "    <tr>\n",
       "      <th>2</th>\n",
       "      <td>NYA</td>\n",
       "      <td>527.840027</td>\n",
       "      <td>1966-01-04</td>\n",
       "    </tr>\n",
       "    <tr>\n",
       "      <th>3</th>\n",
       "      <td>NYA</td>\n",
       "      <td>531.119995</td>\n",
       "      <td>1966-01-05</td>\n",
       "    </tr>\n",
       "    <tr>\n",
       "      <th>4</th>\n",
       "      <td>NYA</td>\n",
       "      <td>532.070007</td>\n",
       "      <td>1966-01-06</td>\n",
       "    </tr>\n",
       "    <tr>\n",
       "      <th>...</th>\n",
       "      <td>...</td>\n",
       "      <td>...</td>\n",
       "      <td>...</td>\n",
       "    </tr>\n",
       "    <tr>\n",
       "      <th>112452</th>\n",
       "      <td>N100</td>\n",
       "      <td>1247.069946</td>\n",
       "      <td>2021-05-27</td>\n",
       "    </tr>\n",
       "    <tr>\n",
       "      <th>112453</th>\n",
       "      <td>N100</td>\n",
       "      <td>1256.599976</td>\n",
       "      <td>2021-05-28</td>\n",
       "    </tr>\n",
       "    <tr>\n",
       "      <th>112454</th>\n",
       "      <td>N100</td>\n",
       "      <td>1248.930054</td>\n",
       "      <td>2021-05-31</td>\n",
       "    </tr>\n",
       "    <tr>\n",
       "      <th>112455</th>\n",
       "      <td>N100</td>\n",
       "      <td>1258.579956</td>\n",
       "      <td>2021-06-01</td>\n",
       "    </tr>\n",
       "    <tr>\n",
       "      <th>112456</th>\n",
       "      <td>N100</td>\n",
       "      <td>1263.619995</td>\n",
       "      <td>2021-06-02</td>\n",
       "    </tr>\n",
       "  </tbody>\n",
       "</table>\n",
       "<p>112457 rows × 3 columns</p>\n",
       "</div>"
      ],
      "text/plain": [
       "       Index        Close        Date\n",
       "0        NYA   528.690002  1965-12-31\n",
       "1        NYA   527.210022  1966-01-03\n",
       "2        NYA   527.840027  1966-01-04\n",
       "3        NYA   531.119995  1966-01-05\n",
       "4        NYA   532.070007  1966-01-06\n",
       "...      ...          ...         ...\n",
       "112452  N100  1247.069946  2021-05-27\n",
       "112453  N100  1256.599976  2021-05-28\n",
       "112454  N100  1248.930054  2021-05-31\n",
       "112455  N100  1258.579956  2021-06-01\n",
       "112456  N100  1263.619995  2021-06-02\n",
       "\n",
       "[112457 rows x 3 columns]"
      ]
     },
     "metadata": {},
     "output_type": "display_data"
    },
    {
     "data": {
      "text/html": [
       "<div>\n",
       "<style scoped>\n",
       "    .dataframe tbody tr th:only-of-type {\n",
       "        vertical-align: middle;\n",
       "    }\n",
       "\n",
       "    .dataframe tbody tr th {\n",
       "        vertical-align: top;\n",
       "    }\n",
       "\n",
       "    .dataframe thead th {\n",
       "        text-align: right;\n",
       "    }\n",
       "</style>\n",
       "<table border=\"1\" class=\"dataframe\">\n",
       "  <thead>\n",
       "    <tr style=\"text-align: right;\">\n",
       "      <th></th>\n",
       "      <th>Index</th>\n",
       "      <th>Close</th>\n",
       "      <th>Date</th>\n",
       "    </tr>\n",
       "  </thead>\n",
       "  <tbody>\n",
       "    <tr>\n",
       "      <th>13940</th>\n",
       "      <td>NYA</td>\n",
       "      <td>16233.32031</td>\n",
       "      <td>2021-05-19</td>\n",
       "    </tr>\n",
       "    <tr>\n",
       "      <th>13941</th>\n",
       "      <td>NYA</td>\n",
       "      <td>16350.45020</td>\n",
       "      <td>2021-05-20</td>\n",
       "    </tr>\n",
       "    <tr>\n",
       "      <th>13942</th>\n",
       "      <td>NYA</td>\n",
       "      <td>16375.00000</td>\n",
       "      <td>2021-05-21</td>\n",
       "    </tr>\n",
       "    <tr>\n",
       "      <th>13943</th>\n",
       "      <td>NYA</td>\n",
       "      <td>16464.68945</td>\n",
       "      <td>2021-05-24</td>\n",
       "    </tr>\n",
       "    <tr>\n",
       "      <th>13944</th>\n",
       "      <td>NYA</td>\n",
       "      <td>16390.18945</td>\n",
       "      <td>2021-05-25</td>\n",
       "    </tr>\n",
       "    <tr>\n",
       "      <th>13945</th>\n",
       "      <td>NYA</td>\n",
       "      <td>16451.96094</td>\n",
       "      <td>2021-05-26</td>\n",
       "    </tr>\n",
       "    <tr>\n",
       "      <th>13946</th>\n",
       "      <td>NYA</td>\n",
       "      <td>16531.94922</td>\n",
       "      <td>2021-05-27</td>\n",
       "    </tr>\n",
       "    <tr>\n",
       "      <th>13947</th>\n",
       "      <td>NYA</td>\n",
       "      <td>16555.66016</td>\n",
       "      <td>2021-05-28</td>\n",
       "    </tr>\n",
       "  </tbody>\n",
       "</table>\n",
       "</div>"
      ],
      "text/plain": [
       "      Index        Close        Date\n",
       "13940   NYA  16233.32031  2021-05-19\n",
       "13941   NYA  16350.45020  2021-05-20\n",
       "13942   NYA  16375.00000  2021-05-21\n",
       "13943   NYA  16464.68945  2021-05-24\n",
       "13944   NYA  16390.18945  2021-05-25\n",
       "13945   NYA  16451.96094  2021-05-26\n",
       "13946   NYA  16531.94922  2021-05-27\n",
       "13947   NYA  16555.66016  2021-05-28"
      ]
     },
     "metadata": {},
     "output_type": "display_data"
    },
    {
     "data": {
      "image/png": "[encoded data removed]",
      "text/plain": [
       "<Figure size 1500x500 with 1 Axes>"
      ]
     },
     "metadata": {},
     "output_type": "display_data"
    }
   ],
   "source": [
    "datadf1 = datadf[['Index','Close','Date']]     \n",
    "display(datadf1)\n",
    "\n",
    "dfremove = datadf1.loc[(datadf1['Index']!='NYA')]\n",
    "datanyadf = datadf1.drop(dfremove.index)\n",
    "datanyadf = datanyadf[13940:]\n",
    "display(datanyadf)\n",
    "\n",
    "figura = plt.figure(figsize=(15,5))\n",
    "plt.plot(datanyadf['Date'],datanyadf['Close'], label = 'NYA', color='#18821F', ls='--', lw='1')\n",
    "plt.legend(loc = 2, fontsize = 16)\n",
    "plt.xlabel('Dia')\n",
    "plt.ylabel('Cotação')\n",
    "plt.title('Cotação da Bolsa de NY')\n",
    "plt.show(figura)"
   ]
  },
  {
   "cell_type": "code",
   "execution_count": 125,
   "id": "1eae7cce",
   "metadata": {},
   "outputs": [
    {
     "data": {
      "text/html": [
       "<div>\n",
       "<style scoped>\n",
       "    .dataframe tbody tr th:only-of-type {\n",
       "        vertical-align: middle;\n",
       "    }\n",
       "\n",
       "    .dataframe tbody tr th {\n",
       "        vertical-align: top;\n",
       "    }\n",
       "\n",
       "    .dataframe thead th {\n",
       "        text-align: right;\n",
       "    }\n",
       "</style>\n",
       "<table border=\"1\" class=\"dataframe\">\n",
       "  <thead>\n",
       "    <tr style=\"text-align: right;\">\n",
       "      <th></th>\n",
       "      <th>Close</th>\n",
       "    </tr>\n",
       "  </thead>\n",
       "  <tbody>\n",
       "    <tr>\n",
       "      <th>count</th>\n",
       "      <td>110253.0</td>\n",
       "    </tr>\n",
       "    <tr>\n",
       "      <th>mean</th>\n",
       "      <td>7658.0</td>\n",
       "    </tr>\n",
       "    <tr>\n",
       "      <th>std</th>\n",
       "      <td>9012.0</td>\n",
       "    </tr>\n",
       "    <tr>\n",
       "      <th>min</th>\n",
       "      <td>55.0</td>\n",
       "    </tr>\n",
       "    <tr>\n",
       "      <th>25%</th>\n",
       "      <td>1855.0</td>\n",
       "    </tr>\n",
       "    <tr>\n",
       "      <th>50%</th>\n",
       "      <td>5195.0</td>\n",
       "    </tr>\n",
       "    <tr>\n",
       "      <th>75%</th>\n",
       "      <td>10135.0</td>\n",
       "    </tr>\n",
       "    <tr>\n",
       "      <th>max</th>\n",
       "      <td>68775.0</td>\n",
       "    </tr>\n",
       "  </tbody>\n",
       "</table>\n",
       "</div>"
      ],
      "text/plain": [
       "          Close\n",
       "count  110253.0\n",
       "mean     7658.0\n",
       "std      9012.0\n",
       "min        55.0\n",
       "25%      1855.0\n",
       "50%      5195.0\n",
       "75%     10135.0\n",
       "max     68775.0"
      ]
     },
     "execution_count": 125,
     "metadata": {},
     "output_type": "execute_result"
    }
   ],
   "source": [
    "datadf1.describe().round()"
   ]
  },
  {
   "cell_type": "code",
   "execution_count": null,
   "id": "142cfc31",
   "metadata": {},
   "outputs": [],
   "source": []
  }
 ],
 "metadata": {
  "kernelspec": {
   "display_name": "Python 3 (ipykernel)",
   "language": "python",
   "name": "python3"
  },
  "language_info": {
   "codemirror_mode": {
    "name": "ipython",
    "version": 3
   },
   "file_extension": ".py",
   "mimetype": "text/x-python",
   "name": "python",
   "nbconvert_exporter": "python",
   "pygments_lexer": "ipython3",
   "version": "3.9.13"
  }
 },
 "nbformat": 4,
 "nbformat_minor": 5
}
